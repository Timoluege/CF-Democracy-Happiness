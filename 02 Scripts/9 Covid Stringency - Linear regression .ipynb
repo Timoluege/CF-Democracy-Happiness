{
 "cells": [
  {
   "cell_type": "markdown",
   "id": "319b5b9d-afef-41eb-9d9f-43567664791d",
   "metadata": {},
   "source": [
    "## Importing libraries and data"
   ]
  },
  {
   "cell_type": "code",
   "execution_count": 3,
   "id": "f84f4d54-82c0-4fc2-b020-fac216da0e97",
   "metadata": {},
   "outputs": [],
   "source": [
    "import pandas as pd\n",
    "import numpy as np\n",
    "import seaborn as sns\n",
    "import matplotlib\n",
    "import matplotlib.pyplot as plt\n",
    "import os\n",
    "import sklearn\n",
    "from sklearn.model_selection import train_test_split \n",
    "from sklearn.linear_model import LinearRegression\n",
    "from sklearn.metrics import mean_squared_error, r2_score"
   ]
  },
  {
   "cell_type": "code",
   "execution_count": 4,
   "id": "9601ee5c-32f2-44ce-98dc-3b169022b4de",
   "metadata": {},
   "outputs": [],
   "source": [
    "# This option ensures that the graphs you create are displayed within the notebook without the need to \"call\" them specifically.\n",
    "\n",
    "%matplotlib inline"
   ]
  },
  {
   "cell_type": "code",
   "execution_count": 5,
   "id": "6798bee3-6433-4229-815d-3521db3844e3",
   "metadata": {},
   "outputs": [],
   "source": [
    "path  = r'INSERT-YOUR-PATH'"
   ]
  },
  {
   "cell_type": "code",
   "execution_count": 6,
   "id": "88919027-1ef8-40c1-8990-27731eb2b2e4",
   "metadata": {},
   "outputs": [],
   "source": [
    "#Importing data as df\n",
    "df = pd.read_pickle(os.path.join(path, '01 Data', 'Prepared Data', 'covid_happiness_2025_01_09.pkl'))"
   ]
  },
  {
   "cell_type": "code",
   "execution_count": 7,
   "id": "69910890-b399-4505-bcfc-15ae74434224",
   "metadata": {},
   "outputs": [
    {
     "data": {
      "text/html": [
       "<div>\n",
       "<style scoped>\n",
       "    .dataframe tbody tr th:only-of-type {\n",
       "        vertical-align: middle;\n",
       "    }\n",
       "\n",
       "    .dataframe tbody tr th {\n",
       "        vertical-align: top;\n",
       "    }\n",
       "\n",
       "    .dataframe thead th {\n",
       "        text-align: right;\n",
       "    }\n",
       "</style>\n",
       "<table border=\"1\" class=\"dataframe\">\n",
       "  <thead>\n",
       "    <tr style=\"text-align: right;\">\n",
       "      <th></th>\n",
       "      <th>Country</th>\n",
       "      <th>Year</th>\n",
       "      <th>Happiness</th>\n",
       "      <th>Covid_Stringency</th>\n",
       "    </tr>\n",
       "  </thead>\n",
       "  <tbody>\n",
       "    <tr>\n",
       "      <th>0</th>\n",
       "      <td>Afghanistan</td>\n",
       "      <td>2021</td>\n",
       "      <td>2.436</td>\n",
       "      <td>29,24221918</td>\n",
       "    </tr>\n",
       "    <tr>\n",
       "      <th>1</th>\n",
       "      <td>Afghanistan</td>\n",
       "      <td>2022</td>\n",
       "      <td>1.281</td>\n",
       "      <td>11,41564384</td>\n",
       "    </tr>\n",
       "    <tr>\n",
       "      <th>2</th>\n",
       "      <td>Albania</td>\n",
       "      <td>2020</td>\n",
       "      <td>5.365</td>\n",
       "      <td>55,8060221</td>\n",
       "    </tr>\n",
       "    <tr>\n",
       "      <th>3</th>\n",
       "      <td>Albania</td>\n",
       "      <td>2021</td>\n",
       "      <td>5.255</td>\n",
       "      <td>48,59090411</td>\n",
       "    </tr>\n",
       "    <tr>\n",
       "      <th>4</th>\n",
       "      <td>Albania</td>\n",
       "      <td>2022</td>\n",
       "      <td>5.212</td>\n",
       "      <td>21,52254795</td>\n",
       "    </tr>\n",
       "  </tbody>\n",
       "</table>\n",
       "</div>"
      ],
      "text/plain": [
       "       Country  Year  Happiness Covid_Stringency\n",
       "0  Afghanistan  2021      2.436      29,24221918\n",
       "1  Afghanistan  2022      1.281      11,41564384\n",
       "2      Albania  2020      5.365       55,8060221\n",
       "3      Albania  2021      5.255      48,59090411\n",
       "4      Albania  2022      5.212      21,52254795"
      ]
     },
     "execution_count": 7,
     "metadata": {},
     "output_type": "execute_result"
    }
   ],
   "source": [
    "df.head()"
   ]
  },
  {
   "cell_type": "code",
   "execution_count": 8,
   "id": "f5dc9544-08ec-4c4f-bdd2-64171d5997eb",
   "metadata": {},
   "outputs": [],
   "source": [
    "# Convert Covid_Stringency values from comma to period decimal separator\n",
    "df['Covid_Stringency'] = df['Covid_Stringency'].str.replace(',', '.')"
   ]
  },
  {
   "cell_type": "code",
   "execution_count": 9,
   "id": "120f8bf6-9a55-4d1c-bdf1-9fbda2c65259",
   "metadata": {},
   "outputs": [],
   "source": [
    "# Convert the column to float type\n",
    "df['Covid_Stringency'] = df['Covid_Stringency'].astype(float)"
   ]
  },
  {
   "cell_type": "code",
   "execution_count": 10,
   "id": "cc37fc87-c307-41c7-aca8-e56d9e91eb22",
   "metadata": {},
   "outputs": [],
   "source": [
    "#Export Data as CSV\n",
    "df.to_csv(os.path.join(path, '01 Data', 'Prepared Data', 'Covid-Stringency-Tableau.csv'))"
   ]
  },
  {
   "cell_type": "code",
   "execution_count": 11,
   "id": "af5c89c6-f13c-4c49-afa8-9ed54b694ed1",
   "metadata": {},
   "outputs": [],
   "source": [
    "# Keep only numerical values for correlation\n",
    "df_corr = df[['Happiness', 'Covid_Stringency']]"
   ]
  },
  {
   "cell_type": "code",
   "execution_count": 12,
   "id": "e9a19897-cd1e-4829-9f09-71d051ee06f7",
   "metadata": {},
   "outputs": [
    {
     "data": {
      "text/html": [
       "<div>\n",
       "<style scoped>\n",
       "    .dataframe tbody tr th:only-of-type {\n",
       "        vertical-align: middle;\n",
       "    }\n",
       "\n",
       "    .dataframe tbody tr th {\n",
       "        vertical-align: top;\n",
       "    }\n",
       "\n",
       "    .dataframe thead th {\n",
       "        text-align: right;\n",
       "    }\n",
       "</style>\n",
       "<table border=\"1\" class=\"dataframe\">\n",
       "  <thead>\n",
       "    <tr style=\"text-align: right;\">\n",
       "      <th></th>\n",
       "      <th>Happiness</th>\n",
       "      <th>Covid_Stringency</th>\n",
       "    </tr>\n",
       "  </thead>\n",
       "  <tbody>\n",
       "    <tr>\n",
       "      <th>Happiness</th>\n",
       "      <td>1.000000</td>\n",
       "      <td>-0.011649</td>\n",
       "    </tr>\n",
       "    <tr>\n",
       "      <th>Covid_Stringency</th>\n",
       "      <td>-0.011649</td>\n",
       "      <td>1.000000</td>\n",
       "    </tr>\n",
       "  </tbody>\n",
       "</table>\n",
       "</div>"
      ],
      "text/plain": [
       "                  Happiness  Covid_Stringency\n",
       "Happiness          1.000000         -0.011649\n",
       "Covid_Stringency  -0.011649          1.000000"
      ]
     },
     "execution_count": 12,
     "metadata": {},
     "output_type": "execute_result"
    }
   ],
   "source": [
    "# Create a correlation matrix using pandas\n",
    "df_corr.corr()"
   ]
  },
  {
   "cell_type": "code",
   "execution_count": 13,
   "id": "86b9537a-1928-4409-97dc-0dd16509b2b3",
   "metadata": {},
   "outputs": [
    {
     "data": {
      "image/png": "[encoded data removed]",
      "text/plain": [
       "<Figure size 500x500 with 1 Axes>"
      ]
     },
     "metadata": {},
     "output_type": "display_data"
    }
   ],
   "source": [
    "# Create a scatterplot for the \"Happiness\" and \"Covid_Stringency\"\n",
    "sns.lmplot(y = 'Happiness', x = 'Covid_Stringency', data = df_corr)\n",
    "plt.show()"
   ]
  },
  {
   "cell_type": "code",
   "execution_count": 14,
   "id": "6249e3eb-2bc3-409a-8c72-b156cc9d11da",
   "metadata": {},
   "outputs": [],
   "source": [
    "#Export Data as Pickle\n",
    "df_corr.to_pickle(os.path.join(path, '01 Data','Prepared Data', 'covid_happiness_2_2025_01_09.pkl'))"
   ]
  },
  {
   "cell_type": "markdown",
   "id": "be2a8582-9b60-4fb4-96de-23feafe171a6",
   "metadata": {},
   "source": [
    "## Conclusion"
   ]
  },
  {
   "cell_type": "markdown",
   "id": "63f89492-1f0c-4671-903b-db4343a8e642",
   "metadata": {},
   "source": [
    "In the 2024 issue of the World Happiness Report, the authors state that Happiness was only reduced by -0.015 and that this change was not statistically signifcant. However, this calculation did not take into account whether countries with stricter COVID-measures were affected more than countries with less severe restrictions. By combining measures about Covid stringency and creating a correlation matrix with happiness-data we can see that there appears to be no correlation as the correlation coefficient is only -0.01."
   ]
  },
  {
   "cell_type": "markdown",
   "id": "f733c970-e6df-4cde-9875-305b26335a6e",
   "metadata": {},
   "source": [
    "In other words: whether countries adopted stronger or weaker COVID restrictions had no significant impact on people's happiness."
   ]
  },
  {
   "cell_type": "code",
   "execution_count": null,
   "id": "0f3de9d1-b5be-4887-b4b4-46995c99bc71",
   "metadata": {},
   "outputs": [],
   "source": []
  }
 ],
 "metadata": {
  "kernelspec": {
   "display_name": "Python 3 (ipykernel)",
   "language": "python",
   "name": "python3"
  },
  "language_info": {
   "codemirror_mode": {
    "name": "ipython",
    "version": 3
   },
   "file_extension": ".py",
   "mimetype": "text/x-python",
   "name": "python",
   "nbconvert_exporter": "python",
   "pygments_lexer": "ipython3",
   "version": "3.11.10"
  }
 },
 "nbformat": 4,
 "nbformat_minor": 5
}
