{
 "cells": [
  {
   "cell_type": "markdown",
   "id": "f09e2003-35d6-4837-bdc4-8090546091cc",
   "metadata": {},
   "source": [
    "## Table of Contents\n",
    "\n",
    "  - Importing data\n",
    "  - Selecting data for analysis\n",
    "    - Exporting data for external analyis\n",
    "  - Merging the datasets\n",
    "  - Exporting data"
   ]
  },
  {
   "cell_type": "markdown",
   "id": "54c1ff6c-db5b-4e6e-a44a-debf65fadacf",
   "metadata": {},
   "source": [
    "## Importing data"
   ]
  },
  {
   "cell_type": "code",
   "execution_count": 29,
   "id": "eaa33731-e93c-4863-b38b-1b08a7841b68",
   "metadata": {},
   "outputs": [],
   "source": [
    "# Import libraries\n",
    "import pandas as pd\n",
    "import numpy as np\n",
    "import os"
   ]
  },
  {
   "cell_type": "code",
   "execution_count": 31,
   "id": "1b4fb70e-8935-472d-8341-f07f42edfc78",
   "metadata": {},
   "outputs": [],
   "source": [
    "path  = r'INSERT-YOUR-PATH'"
   ]
  },
  {
   "cell_type": "code",
   "execution_count": 51,
   "id": "b3fce2fb-bf1b-4fe0-9853-d8b09abffaed",
   "metadata": {
    "scrolled": true
   },
   "outputs": [],
   "source": [
    "#Importing data as df\n",
    "df_covid = pd.read_csv(os.path.join(path, '01 Data', 'Original Data', 'owid-covid-data_stringency_avg.csv'), sep=';', index_col=False)"
   ]
  },
  {
   "cell_type": "code",
   "execution_count": 53,
   "id": "7b06ad47-59f7-4c12-8fe4-8390f488b1b3",
   "metadata": {},
   "outputs": [
    {
     "data": {
      "text/html": [
       "<div>\n",
       "<style scoped>\n",
       "    .dataframe tbody tr th:only-of-type {\n",
       "        vertical-align: middle;\n",
       "    }\n",
       "\n",
       "    .dataframe tbody tr th {\n",
       "        vertical-align: top;\n",
       "    }\n",
       "\n",
       "    .dataframe thead th {\n",
       "        text-align: right;\n",
       "    }\n",
       "</style>\n",
       "<table border=\"1\" class=\"dataframe\">\n",
       "  <thead>\n",
       "    <tr style=\"text-align: right;\">\n",
       "      <th></th>\n",
       "      <th>Country</th>\n",
       "      <th>Attribute</th>\n",
       "      <th>Covid_Stringency</th>\n",
       "    </tr>\n",
       "  </thead>\n",
       "  <tbody>\n",
       "    <tr>\n",
       "      <th>0</th>\n",
       "      <td>Afghanistan</td>\n",
       "      <td>2020</td>\n",
       "      <td>41,94569061</td>\n",
       "    </tr>\n",
       "    <tr>\n",
       "      <th>1</th>\n",
       "      <td>Afghanistan</td>\n",
       "      <td>2021</td>\n",
       "      <td>29,24221918</td>\n",
       "    </tr>\n",
       "    <tr>\n",
       "      <th>2</th>\n",
       "      <td>Afghanistan</td>\n",
       "      <td>2022</td>\n",
       "      <td>11,41564384</td>\n",
       "    </tr>\n",
       "    <tr>\n",
       "      <th>3</th>\n",
       "      <td>Albania</td>\n",
       "      <td>2020</td>\n",
       "      <td>55,8060221</td>\n",
       "    </tr>\n",
       "    <tr>\n",
       "      <th>4</th>\n",
       "      <td>Albania</td>\n",
       "      <td>2021</td>\n",
       "      <td>48,59090411</td>\n",
       "    </tr>\n",
       "  </tbody>\n",
       "</table>\n",
       "</div>"
      ],
      "text/plain": [
       "       Country  Attribute Covid_Stringency\n",
       "0  Afghanistan       2020      41,94569061\n",
       "1  Afghanistan       2021      29,24221918\n",
       "2  Afghanistan       2022      11,41564384\n",
       "3      Albania       2020       55,8060221\n",
       "4      Albania       2021      48,59090411"
      ]
     },
     "execution_count": 53,
     "metadata": {},
     "output_type": "execute_result"
    }
   ],
   "source": [
    "df_covid.head()"
   ]
  },
  {
   "cell_type": "code",
   "execution_count": null,
   "id": "a4c9fbf0-904a-4505-8dac-06330154eee9",
   "metadata": {},
   "outputs": [],
   "source": [
    "df_covid.rename(columns = {'Attribute' : 'Year'}, inplace = True)"
   ]
  },
  {
   "cell_type": "code",
   "execution_count": 125,
   "id": "25c6cfad-6bae-4bc2-b55c-7d3550baf864",
   "metadata": {},
   "outputs": [
    {
     "data": {
      "text/html": [
       "<div>\n",
       "<style scoped>\n",
       "    .dataframe tbody tr th:only-of-type {\n",
       "        vertical-align: middle;\n",
       "    }\n",
       "\n",
       "    .dataframe tbody tr th {\n",
       "        vertical-align: top;\n",
       "    }\n",
       "\n",
       "    .dataframe thead th {\n",
       "        text-align: right;\n",
       "    }\n",
       "</style>\n",
       "<table border=\"1\" class=\"dataframe\">\n",
       "  <thead>\n",
       "    <tr style=\"text-align: right;\">\n",
       "      <th></th>\n",
       "      <th>Country</th>\n",
       "      <th>Year</th>\n",
       "      <th>Covid_Stringency</th>\n",
       "    </tr>\n",
       "  </thead>\n",
       "  <tbody>\n",
       "    <tr>\n",
       "      <th>0</th>\n",
       "      <td>Afghanistan</td>\n",
       "      <td>2020</td>\n",
       "      <td>41,94569061</td>\n",
       "    </tr>\n",
       "    <tr>\n",
       "      <th>1</th>\n",
       "      <td>Afghanistan</td>\n",
       "      <td>2021</td>\n",
       "      <td>29,24221918</td>\n",
       "    </tr>\n",
       "    <tr>\n",
       "      <th>2</th>\n",
       "      <td>Afghanistan</td>\n",
       "      <td>2022</td>\n",
       "      <td>11,41564384</td>\n",
       "    </tr>\n",
       "    <tr>\n",
       "      <th>3</th>\n",
       "      <td>Albania</td>\n",
       "      <td>2020</td>\n",
       "      <td>55,8060221</td>\n",
       "    </tr>\n",
       "    <tr>\n",
       "      <th>4</th>\n",
       "      <td>Albania</td>\n",
       "      <td>2021</td>\n",
       "      <td>48,59090411</td>\n",
       "    </tr>\n",
       "  </tbody>\n",
       "</table>\n",
       "</div>"
      ],
      "text/plain": [
       "       Country  Year Covid_Stringency\n",
       "0  Afghanistan  2020      41,94569061\n",
       "1  Afghanistan  2021      29,24221918\n",
       "2  Afghanistan  2022      11,41564384\n",
       "3      Albania  2020       55,8060221\n",
       "4      Albania  2021      48,59090411"
      ]
     },
     "execution_count": 125,
     "metadata": {},
     "output_type": "execute_result"
    }
   ],
   "source": [
    "df_covid.head()"
   ]
  },
  {
   "cell_type": "code",
   "execution_count": 71,
   "id": "0181782e-ab75-4998-bc6b-fa8f5585e6ed",
   "metadata": {},
   "outputs": [
    {
     "data": {
      "text/plain": [
       "(540, 3)"
      ]
     },
     "execution_count": 71,
     "metadata": {},
     "output_type": "execute_result"
    }
   ],
   "source": [
    "df_covid.shape"
   ]
  },
  {
   "cell_type": "code",
   "execution_count": 55,
   "id": "ab79a0bd-c11f-4924-bb4f-702481416ee7",
   "metadata": {},
   "outputs": [],
   "source": [
    "#Importing word happiness data as wh\n",
    "df_wh = pd.read_pickle(os.path.join(path, '01 Data', 'Prepared Data', 'dataset-2024-12-02.pkl'))"
   ]
  },
  {
   "cell_type": "code",
   "execution_count": 59,
   "id": "55b71334-9ec1-4112-9e42-94d260e85671",
   "metadata": {},
   "outputs": [
    {
     "data": {
      "text/html": [
       "<div>\n",
       "<style scoped>\n",
       "    .dataframe tbody tr th:only-of-type {\n",
       "        vertical-align: middle;\n",
       "    }\n",
       "\n",
       "    .dataframe tbody tr th {\n",
       "        vertical-align: top;\n",
       "    }\n",
       "\n",
       "    .dataframe thead th {\n",
       "        text-align: right;\n",
       "    }\n",
       "</style>\n",
       "<table border=\"1\" class=\"dataframe\">\n",
       "  <thead>\n",
       "    <tr style=\"text-align: right;\">\n",
       "      <th></th>\n",
       "      <th>Country</th>\n",
       "      <th>Year</th>\n",
       "      <th>Happiness</th>\n",
       "      <th>GDP_log</th>\n",
       "      <th>Social_support</th>\n",
       "      <th>Life_expectancy</th>\n",
       "      <th>Freedom</th>\n",
       "      <th>Generosity</th>\n",
       "      <th>Corruption</th>\n",
       "      <th>Pos_affect</th>\n",
       "      <th>Neg_affect</th>\n",
       "      <th>Democracy</th>\n",
       "      <th>Inflation</th>\n",
       "      <th>_merge</th>\n",
       "    </tr>\n",
       "  </thead>\n",
       "  <tbody>\n",
       "    <tr>\n",
       "      <th>0</th>\n",
       "      <td>Afghanistan</td>\n",
       "      <td>2008</td>\n",
       "      <td>3.724</td>\n",
       "      <td>7.350</td>\n",
       "      <td>0.451</td>\n",
       "      <td>50.5</td>\n",
       "      <td>0.718</td>\n",
       "      <td>0.164</td>\n",
       "      <td>0.882</td>\n",
       "      <td>0.414</td>\n",
       "      <td>0.258</td>\n",
       "      <td>3.02</td>\n",
       "      <td>26.418664</td>\n",
       "      <td>both</td>\n",
       "    </tr>\n",
       "    <tr>\n",
       "      <th>1</th>\n",
       "      <td>Afghanistan</td>\n",
       "      <td>2009</td>\n",
       "      <td>4.402</td>\n",
       "      <td>7.509</td>\n",
       "      <td>0.552</td>\n",
       "      <td>50.8</td>\n",
       "      <td>0.679</td>\n",
       "      <td>0.187</td>\n",
       "      <td>0.850</td>\n",
       "      <td>0.481</td>\n",
       "      <td>0.237</td>\n",
       "      <td>NaN</td>\n",
       "      <td>NaN</td>\n",
       "      <td>left_only</td>\n",
       "    </tr>\n",
       "    <tr>\n",
       "      <th>2</th>\n",
       "      <td>Afghanistan</td>\n",
       "      <td>2010</td>\n",
       "      <td>4.758</td>\n",
       "      <td>7.614</td>\n",
       "      <td>0.539</td>\n",
       "      <td>51.1</td>\n",
       "      <td>0.600</td>\n",
       "      <td>0.118</td>\n",
       "      <td>0.707</td>\n",
       "      <td>0.517</td>\n",
       "      <td>0.275</td>\n",
       "      <td>2.48</td>\n",
       "      <td>2.178538</td>\n",
       "      <td>both</td>\n",
       "    </tr>\n",
       "    <tr>\n",
       "      <th>3</th>\n",
       "      <td>Afghanistan</td>\n",
       "      <td>2011</td>\n",
       "      <td>3.832</td>\n",
       "      <td>7.581</td>\n",
       "      <td>0.521</td>\n",
       "      <td>51.4</td>\n",
       "      <td>0.496</td>\n",
       "      <td>0.160</td>\n",
       "      <td>0.731</td>\n",
       "      <td>0.480</td>\n",
       "      <td>0.267</td>\n",
       "      <td>2.48</td>\n",
       "      <td>11.804186</td>\n",
       "      <td>both</td>\n",
       "    </tr>\n",
       "    <tr>\n",
       "      <th>4</th>\n",
       "      <td>Afghanistan</td>\n",
       "      <td>2012</td>\n",
       "      <td>3.783</td>\n",
       "      <td>7.661</td>\n",
       "      <td>0.521</td>\n",
       "      <td>51.7</td>\n",
       "      <td>0.531</td>\n",
       "      <td>0.234</td>\n",
       "      <td>0.776</td>\n",
       "      <td>0.614</td>\n",
       "      <td>0.268</td>\n",
       "      <td>2.48</td>\n",
       "      <td>6.441213</td>\n",
       "      <td>both</td>\n",
       "    </tr>\n",
       "  </tbody>\n",
       "</table>\n",
       "</div>"
      ],
      "text/plain": [
       "       Country  Year  Happiness  GDP_log  Social_support  Life_expectancy  \\\n",
       "0  Afghanistan  2008      3.724    7.350           0.451             50.5   \n",
       "1  Afghanistan  2009      4.402    7.509           0.552             50.8   \n",
       "2  Afghanistan  2010      4.758    7.614           0.539             51.1   \n",
       "3  Afghanistan  2011      3.832    7.581           0.521             51.4   \n",
       "4  Afghanistan  2012      3.783    7.661           0.521             51.7   \n",
       "\n",
       "   Freedom  Generosity  Corruption  Pos_affect  Neg_affect  Democracy  \\\n",
       "0    0.718       0.164       0.882       0.414       0.258       3.02   \n",
       "1    0.679       0.187       0.850       0.481       0.237        NaN   \n",
       "2    0.600       0.118       0.707       0.517       0.275       2.48   \n",
       "3    0.496       0.160       0.731       0.480       0.267       2.48   \n",
       "4    0.531       0.234       0.776       0.614       0.268       2.48   \n",
       "\n",
       "   Inflation     _merge  \n",
       "0  26.418664       both  \n",
       "1        NaN  left_only  \n",
       "2   2.178538       both  \n",
       "3  11.804186       both  \n",
       "4   6.441213       both  "
      ]
     },
     "execution_count": 59,
     "metadata": {},
     "output_type": "execute_result"
    }
   ],
   "source": [
    "df_wh.head()"
   ]
  },
  {
   "cell_type": "markdown",
   "id": "37701a94-ddf4-4597-9eb6-94f2c8a67cbb",
   "metadata": {},
   "source": [
    "## Selecting data for analysis"
   ]
  },
  {
   "cell_type": "code",
   "execution_count": 65,
   "id": "d44ff075-98e4-4dc3-9515-b81bf096c47b",
   "metadata": {},
   "outputs": [],
   "source": [
    "#Create df with only the relevant columns\n",
    "df_wh_2 = df_wh[['Country', 'Year', 'Happiness']]"
   ]
  },
  {
   "cell_type": "code",
   "execution_count": 63,
   "id": "8695871c-dc23-4c4c-90d2-c8080c4d160f",
   "metadata": {
    "scrolled": true
   },
   "outputs": [
    {
     "data": {
      "text/html": [
       "<div>\n",
       "<style scoped>\n",
       "    .dataframe tbody tr th:only-of-type {\n",
       "        vertical-align: middle;\n",
       "    }\n",
       "\n",
       "    .dataframe tbody tr th {\n",
       "        vertical-align: top;\n",
       "    }\n",
       "\n",
       "    .dataframe thead th {\n",
       "        text-align: right;\n",
       "    }\n",
       "</style>\n",
       "<table border=\"1\" class=\"dataframe\">\n",
       "  <thead>\n",
       "    <tr style=\"text-align: right;\">\n",
       "      <th></th>\n",
       "      <th>Country</th>\n",
       "      <th>Year</th>\n",
       "      <th>Happiness</th>\n",
       "    </tr>\n",
       "  </thead>\n",
       "  <tbody>\n",
       "    <tr>\n",
       "      <th>0</th>\n",
       "      <td>Afghanistan</td>\n",
       "      <td>2008</td>\n",
       "      <td>3.724</td>\n",
       "    </tr>\n",
       "    <tr>\n",
       "      <th>1</th>\n",
       "      <td>Afghanistan</td>\n",
       "      <td>2009</td>\n",
       "      <td>4.402</td>\n",
       "    </tr>\n",
       "    <tr>\n",
       "      <th>2</th>\n",
       "      <td>Afghanistan</td>\n",
       "      <td>2010</td>\n",
       "      <td>4.758</td>\n",
       "    </tr>\n",
       "    <tr>\n",
       "      <th>3</th>\n",
       "      <td>Afghanistan</td>\n",
       "      <td>2011</td>\n",
       "      <td>3.832</td>\n",
       "    </tr>\n",
       "    <tr>\n",
       "      <th>4</th>\n",
       "      <td>Afghanistan</td>\n",
       "      <td>2012</td>\n",
       "      <td>3.783</td>\n",
       "    </tr>\n",
       "  </tbody>\n",
       "</table>\n",
       "</div>"
      ],
      "text/plain": [
       "       Country  Year  Happiness\n",
       "0  Afghanistan  2008      3.724\n",
       "1  Afghanistan  2009      4.402\n",
       "2  Afghanistan  2010      4.758\n",
       "3  Afghanistan  2011      3.832\n",
       "4  Afghanistan  2012      3.783"
      ]
     },
     "execution_count": 63,
     "metadata": {},
     "output_type": "execute_result"
    }
   ],
   "source": [
    "df_wh_2.head()"
   ]
  },
  {
   "cell_type": "code",
   "execution_count": 78,
   "id": "dadf0229-d43f-4ba7-894e-f6c95b3a9804",
   "metadata": {},
   "outputs": [
    {
     "data": {
      "text/plain": [
       "(2363, 3)"
      ]
     },
     "execution_count": 78,
     "metadata": {},
     "output_type": "execute_result"
    }
   ],
   "source": [
    "df_wh_2.shape"
   ]
  },
  {
   "cell_type": "code",
   "execution_count": 88,
   "id": "c00470a8-04f3-4041-9bb0-0ff46e90ea59",
   "metadata": {},
   "outputs": [],
   "source": [
    "#Limit df to Covid-Years\n",
    "df_wh_3 = df_wh_2[df_wh['Year'].isin([2020, 2021, 2022])]"
   ]
  },
  {
   "cell_type": "code",
   "execution_count": 84,
   "id": "436803ad-5771-4c1d-b124-2bef75d4b177",
   "metadata": {},
   "outputs": [
    {
     "data": {
      "text/html": [
       "<div>\n",
       "<style scoped>\n",
       "    .dataframe tbody tr th:only-of-type {\n",
       "        vertical-align: middle;\n",
       "    }\n",
       "\n",
       "    .dataframe tbody tr th {\n",
       "        vertical-align: top;\n",
       "    }\n",
       "\n",
       "    .dataframe thead th {\n",
       "        text-align: right;\n",
       "    }\n",
       "</style>\n",
       "<table border=\"1\" class=\"dataframe\">\n",
       "  <thead>\n",
       "    <tr style=\"text-align: right;\">\n",
       "      <th></th>\n",
       "      <th>Country</th>\n",
       "      <th>Year</th>\n",
       "      <th>Happiness</th>\n",
       "    </tr>\n",
       "  </thead>\n",
       "  <tbody>\n",
       "    <tr>\n",
       "      <th>12</th>\n",
       "      <td>Afghanistan</td>\n",
       "      <td>2021</td>\n",
       "      <td>2.436</td>\n",
       "    </tr>\n",
       "    <tr>\n",
       "      <th>13</th>\n",
       "      <td>Afghanistan</td>\n",
       "      <td>2022</td>\n",
       "      <td>1.281</td>\n",
       "    </tr>\n",
       "    <tr>\n",
       "      <th>27</th>\n",
       "      <td>Albania</td>\n",
       "      <td>2020</td>\n",
       "      <td>5.365</td>\n",
       "    </tr>\n",
       "    <tr>\n",
       "      <th>28</th>\n",
       "      <td>Albania</td>\n",
       "      <td>2021</td>\n",
       "      <td>5.255</td>\n",
       "    </tr>\n",
       "    <tr>\n",
       "      <th>29</th>\n",
       "      <td>Albania</td>\n",
       "      <td>2022</td>\n",
       "      <td>5.212</td>\n",
       "    </tr>\n",
       "  </tbody>\n",
       "</table>\n",
       "</div>"
      ],
      "text/plain": [
       "        Country  Year  Happiness\n",
       "12  Afghanistan  2021      2.436\n",
       "13  Afghanistan  2022      1.281\n",
       "27      Albania  2020      5.365\n",
       "28      Albania  2021      5.255\n",
       "29      Albania  2022      5.212"
      ]
     },
     "execution_count": 84,
     "metadata": {},
     "output_type": "execute_result"
    }
   ],
   "source": [
    "df_wh_3.head()"
   ]
  },
  {
   "cell_type": "code",
   "execution_count": 86,
   "id": "7ad2e620-305f-410e-b422-9af1efa81de0",
   "metadata": {},
   "outputs": [
    {
     "data": {
      "text/plain": [
       "(378, 3)"
      ]
     },
     "execution_count": 86,
     "metadata": {},
     "output_type": "execute_result"
    }
   ],
   "source": [
    "df_wh_3.shape"
   ]
  },
  {
   "cell_type": "markdown",
   "id": "55cce59e-d09c-494e-ae70-e3595d0db0af",
   "metadata": {},
   "source": [
    "### Exporting data for external analyis"
   ]
  },
  {
   "cell_type": "code",
   "execution_count": 90,
   "id": "74eb0cd5-4495-40b3-842e-668ce1395e42",
   "metadata": {},
   "outputs": [],
   "source": [
    "#Export Data as Pickle\n",
    "df_wh_3.to_pickle(os.path.join(path, '01 Data','Prepared Data', 'wh_covid_years.pkl'))"
   ]
  },
  {
   "cell_type": "code",
   "execution_count": 93,
   "id": "453a5873-3d6c-48e5-9073-8e33808993ca",
   "metadata": {},
   "outputs": [],
   "source": [
    "#Export Data as Pickle\n",
    "df_covid.to_pickle(os.path.join(path, '01 Data','Prepared Data', 'stringency_covid_years.pkl'))"
   ]
  },
  {
   "cell_type": "markdown",
   "id": "ff15dac1-e8d7-4f42-aa6f-c27b0dd15283",
   "metadata": {},
   "source": [
    "I will use AI to identify names of countries that have similar spellings or other mismatches in the country-column."
   ]
  },
  {
   "cell_type": "markdown",
   "id": "a8f70bb6-cb22-42ff-919f-750a4fe4cb96",
   "metadata": {},
   "source": [
    "## Merging the datasets"
   ]
  },
  {
   "cell_type": "code",
   "execution_count": 97,
   "id": "3b12af4c-f448-4256-a58f-5347ce7ef578",
   "metadata": {},
   "outputs": [],
   "source": [
    "# Dictionary to map Stringency dataset country names to Happiness Report names\n",
    "country_mapping = {\n",
    "    # Different spellings of same country/territory\n",
    "    'Turkey': 'Turkiye',\n",
    "    'Hong Kong': 'Hong Kong S.A.R. of China',\n",
    "    'Taiwan': 'Taiwan Province of China',\n",
    "    'Palestine': 'State of Palestine',\n",
    "    'Congo': 'Congo (Brazzaville)',\n",
    "    'Democratic Republic of Congo': 'Congo (Kinshasa)',\n",
    "    \n",
    "    # Territories/regions in Stringency dataset to exclude (not in Happiness Report)\n",
    "    'Aruba': None,\n",
    "    'Bermuda': None,\n",
    "    'Brunei': None,\n",
    "    'Dominica': None,\n",
    "    'East Timor': None,\n",
    "    'Faroe Islands': None,\n",
    "    'Greenland': None,\n",
    "    'Kiribati': None,\n",
    "    'Liechtenstein': None,\n",
    "    'Macao': None,\n",
    "    'Monaco': None,\n",
    "    'San Marino': None,\n",
    "    'Seychelles': None,\n",
    "    'Solomon Islands': None,\n",
    "    'Vanuatu': None\n",
    "}"
   ]
  },
  {
   "cell_type": "code",
   "execution_count": 99,
   "id": "92da8b6c-57fa-405b-831f-772355b7392c",
   "metadata": {},
   "outputs": [],
   "source": [
    "# Function to standardize country names\n",
    "def standardize_country_name(country_name):\n",
    "    \"\"\"\n",
    "    Standardize country names to match Happiness Report naming conventions.\n",
    "    \n",
    "    Args:\n",
    "        country_name (str): Country name from either dataset\n",
    "        \n",
    "    Returns:\n",
    "        str or None: Standardized country name, or None if country should be excluded\n",
    "    \"\"\"\n",
    "    return country_mapping.get(country_name, country_name)"
   ]
  },
  {
   "cell_type": "code",
   "execution_count": 103,
   "id": "48fa1781-eb19-454b-a8db-c565f142ca24",
   "metadata": {},
   "outputs": [
    {
     "data": {
      "text/plain": [
       "(540, 3)"
      ]
     },
     "execution_count": 103,
     "metadata": {},
     "output_type": "execute_result"
    }
   ],
   "source": [
    "df_covid.shape"
   ]
  },
  {
   "cell_type": "code",
   "execution_count": 105,
   "id": "e7534a64-7179-4e19-b877-e869b6259750",
   "metadata": {},
   "outputs": [],
   "source": [
    "# Standardize country names in stringency dataset\n",
    "df_covid['Country'] = df_covid['Country'].map(lambda x: standardize_country_name(x))"
   ]
  },
  {
   "cell_type": "code",
   "execution_count": 115,
   "id": "7679449b-bee4-4126-b069-6f6f2aec9950",
   "metadata": {},
   "outputs": [],
   "source": [
    "# Remove rows where country name was mapped to None\n",
    "df_covid = df_covid[df_covid['Country'].notna()]"
   ]
  },
  {
   "cell_type": "code",
   "execution_count": 117,
   "id": "f15149a7-1c3a-429f-a39a-0a55203032b2",
   "metadata": {},
   "outputs": [
    {
     "data": {
      "text/plain": [
       "(498, 3)"
      ]
     },
     "execution_count": 117,
     "metadata": {},
     "output_type": "execute_result"
    }
   ],
   "source": [
    "df_covid.shape"
   ]
  },
  {
   "cell_type": "code",
   "execution_count": 127,
   "id": "54386aac-3f7d-4b48-8dc4-2822754c6a3a",
   "metadata": {},
   "outputs": [],
   "source": [
    "# Now the datasets can be merged on 'Country'\n",
    "merged_df = pd.merge(df_wh_3, df_covid, on=['Country', 'Year'], how='left')"
   ]
  },
  {
   "cell_type": "code",
   "execution_count": 129,
   "id": "254b5803-8673-44df-8b34-93c944410c39",
   "metadata": {},
   "outputs": [
    {
     "data": {
      "text/html": [
       "<div>\n",
       "<style scoped>\n",
       "    .dataframe tbody tr th:only-of-type {\n",
       "        vertical-align: middle;\n",
       "    }\n",
       "\n",
       "    .dataframe tbody tr th {\n",
       "        vertical-align: top;\n",
       "    }\n",
       "\n",
       "    .dataframe thead th {\n",
       "        text-align: right;\n",
       "    }\n",
       "</style>\n",
       "<table border=\"1\" class=\"dataframe\">\n",
       "  <thead>\n",
       "    <tr style=\"text-align: right;\">\n",
       "      <th></th>\n",
       "      <th>Country</th>\n",
       "      <th>Year</th>\n",
       "      <th>Happiness</th>\n",
       "      <th>Covid_Stringency</th>\n",
       "    </tr>\n",
       "  </thead>\n",
       "  <tbody>\n",
       "    <tr>\n",
       "      <th>0</th>\n",
       "      <td>Afghanistan</td>\n",
       "      <td>2021</td>\n",
       "      <td>2.436</td>\n",
       "      <td>29,24221918</td>\n",
       "    </tr>\n",
       "    <tr>\n",
       "      <th>1</th>\n",
       "      <td>Afghanistan</td>\n",
       "      <td>2022</td>\n",
       "      <td>1.281</td>\n",
       "      <td>11,41564384</td>\n",
       "    </tr>\n",
       "    <tr>\n",
       "      <th>2</th>\n",
       "      <td>Albania</td>\n",
       "      <td>2020</td>\n",
       "      <td>5.365</td>\n",
       "      <td>55,8060221</td>\n",
       "    </tr>\n",
       "    <tr>\n",
       "      <th>3</th>\n",
       "      <td>Albania</td>\n",
       "      <td>2021</td>\n",
       "      <td>5.255</td>\n",
       "      <td>48,59090411</td>\n",
       "    </tr>\n",
       "    <tr>\n",
       "      <th>4</th>\n",
       "      <td>Albania</td>\n",
       "      <td>2022</td>\n",
       "      <td>5.212</td>\n",
       "      <td>21,52254795</td>\n",
       "    </tr>\n",
       "  </tbody>\n",
       "</table>\n",
       "</div>"
      ],
      "text/plain": [
       "       Country  Year  Happiness Covid_Stringency\n",
       "0  Afghanistan  2021      2.436      29,24221918\n",
       "1  Afghanistan  2022      1.281      11,41564384\n",
       "2      Albania  2020      5.365       55,8060221\n",
       "3      Albania  2021      5.255      48,59090411\n",
       "4      Albania  2022      5.212      21,52254795"
      ]
     },
     "execution_count": 129,
     "metadata": {},
     "output_type": "execute_result"
    }
   ],
   "source": [
    "merged_df.head()"
   ]
  },
  {
   "cell_type": "code",
   "execution_count": 131,
   "id": "17df2580-9bfd-4dee-8649-efec1d710b10",
   "metadata": {},
   "outputs": [
    {
     "data": {
      "text/plain": [
       "(378, 4)"
      ]
     },
     "execution_count": 131,
     "metadata": {},
     "output_type": "execute_result"
    }
   ],
   "source": [
    "merged_df.shape"
   ]
  },
  {
   "cell_type": "markdown",
   "id": "c209297d-2144-4b0c-85a8-c8d036f1f0e8",
   "metadata": {},
   "source": [
    "## Exporting data"
   ]
  },
  {
   "cell_type": "code",
   "execution_count": 137,
   "id": "082d8473-0803-46f4-b3df-95362d725be0",
   "metadata": {},
   "outputs": [],
   "source": [
    "#Export Data as Pickle\n",
    "merged_df.to_pickle(os.path.join(path, '01 Data','Prepared Data', 'covid_happiness_2025_01_09.pkl'))"
   ]
  },
  {
   "cell_type": "code",
   "execution_count": null,
   "id": "c134d647-395f-484c-9fe3-23a80c9793af",
   "metadata": {},
   "outputs": [],
   "source": []
  }
 ],
 "metadata": {
  "kernelspec": {
   "display_name": "Python 3 (ipykernel)",
   "language": "python",
   "name": "python3"
  },
  "language_info": {
   "codemirror_mode": {
    "name": "ipython",
    "version": 3
   },
   "file_extension": ".py",
   "mimetype": "text/x-python",
   "name": "python",
   "nbconvert_exporter": "python",
   "pygments_lexer": "ipython3",
   "version": "3.11.10"
  }
 },
 "nbformat": 4,
 "nbformat_minor": 5
}
